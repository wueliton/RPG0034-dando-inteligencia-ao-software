{
  "nbformat": 4,
  "nbformat_minor": 0,
  "metadata": {
    "colab": {
      "provenance": []
    },
    "kernelspec": {
      "name": "python3",
      "display_name": "Python 3"
    },
    "language_info": {
      "name": "python"
    }
  },
  "cells": [
    {
      "cell_type": "markdown",
      "source": [
        "Identificação de idioma predominante em textos.\n",
        "\n",
        "Passo 1: Instalação das bibliotecas."
      ],
      "metadata": {
        "id": "uLj3BjoClNfT"
      }
    },
    {
      "cell_type": "code",
      "source": [
        "!pip install langdetect"
      ],
      "metadata": {
        "colab": {
          "base_uri": "https://localhost:8080/"
        },
        "id": "FI7V2NAhlUEX",
        "outputId": "ce905d26-5729-4840-e72a-29390fce7134"
      },
      "execution_count": 1,
      "outputs": [
        {
          "output_type": "stream",
          "name": "stdout",
          "text": [
            "Collecting langdetect\n",
            "  Downloading langdetect-1.0.9.tar.gz (981 kB)\n",
            "\u001b[?25l     \u001b[90m━━━━━━━━━━━━━━━━━━━━━━━━━━━━━━━━━━━━━━━━\u001b[0m \u001b[32m0.0/981.5 kB\u001b[0m \u001b[31m?\u001b[0m eta \u001b[36m-:--:--\u001b[0m\r\u001b[2K     \u001b[91m━━━━━━\u001b[0m\u001b[90m╺\u001b[0m\u001b[90m━━━━━━━━━━━━━━━━━━━━━━━━━━━━━━━━\u001b[0m \u001b[32m153.6/981.5 kB\u001b[0m \u001b[31m4.5 MB/s\u001b[0m eta \u001b[36m0:00:01\u001b[0m\r\u001b[2K     \u001b[91m━━━━━━━━━━━━━━━━━━━━━━━━━━━━━━━━━━━━━\u001b[0m\u001b[90m╺\u001b[0m \u001b[32m962.6/981.5 kB\u001b[0m \u001b[31m13.6 MB/s\u001b[0m eta \u001b[36m0:00:01\u001b[0m\r\u001b[2K     \u001b[90m━━━━━━━━━━━━━━━━━━━━━━━━━━━━━━━━━━━━━━━\u001b[0m \u001b[32m981.5/981.5 kB\u001b[0m \u001b[31m9.3 MB/s\u001b[0m eta \u001b[36m0:00:00\u001b[0m\n",
            "\u001b[?25h  Preparing metadata (setup.py) ... \u001b[?25l\u001b[?25hdone\n",
            "Requirement already satisfied: six in /usr/local/lib/python3.11/dist-packages (from langdetect) (1.17.0)\n",
            "Building wheels for collected packages: langdetect\n",
            "  Building wheel for langdetect (setup.py) ... \u001b[?25l\u001b[?25hdone\n",
            "  Created wheel for langdetect: filename=langdetect-1.0.9-py3-none-any.whl size=993223 sha256=d393dad8aeb77fc756b4e1ef6cca26a53dd7bf610430be2090c4edec76a929c1\n",
            "  Stored in directory: /root/.cache/pip/wheels/0a/f2/b2/e5ca405801e05eb7c8ed5b3b4bcf1fcabcd6272c167640072e\n",
            "Successfully built langdetect\n",
            "Installing collected packages: langdetect\n",
            "Successfully installed langdetect-1.0.9\n"
          ]
        }
      ]
    },
    {
      "cell_type": "markdown",
      "source": [
        "Passo 2: Definindo as frases, em\n",
        "diferentes idiomas, que serão analisadas."
      ],
      "metadata": {
        "id": "kahiR3FileAX"
      }
    },
    {
      "cell_type": "code",
      "source": [
        "text = [\"Wear masks, keep distance, wash hands, be safe in these difficult days.\" ,\n",
        "        \"Viseljen maszkot, tartson távolságot, mosson kezet, legyen biztonságban ezekben a nehéz napokban\",\n",
        "        \"Deaths are increasing, be vigilent.\",\n",
        "        \"Носите маски, соблюдайте дистанцию, мойте руки, будьте осторожны в эти тяжелые дни.\",\n",
        "        \"Covid-19: Indians flock to vaccination centers as vaccines are now available for 60+ in India since the 1st of March\",\n",
        "        \"Indossa maschere, mantieni le distanze, lavati le mani, sii al sicuro in questi giorni difficili.\",\n",
        "        \"Portez des masques, gardez vos distances, lavez-vous les mains, soyez en sécurité en ces jours difficiles.\",\n",
        "        \"Brug masker, hold afstand, vask hænder, vær sikker i disse vanskelige dage.\",\n",
        "        \"We are facing a global education crisis. No effort should be spared to safely bring every child back into the classroom.\",\n",
        "        \"Bruk masker, hold avstand, vask hendene, vær trygg i disse vanskelige dagene.\",\n",
        "        \"Portu maskojn, tenu distancon, lavu manojn, estu sekuraj en ĉi tiuj malfacilaj tagoj.\",\n",
        "        \"Tragen Sie Masken, halten Sie Abstand, waschen Sie Ihre Hände, seien Sie in diesen schwierigen Tagen sicher.\",\n",
        "        \"Носіть маски, тримайтеся на відстані, мийте руки, будьте в безпеці в ці важкі дні.\",\n",
        "        \"Lock down , working from home are the keys words for these days.\",\n",
        "        \"Lives have changed drastically across the planet and this period will forever be remembered as the beginning of something we have yet to witness.\",\n",
        "        \"Este é um exemplo de texto escrito em português.\",\n",
        "        \"Olá, como você está?\",\n",
        "        \"Hello, how are you?\",\n",
        "        \"Hola, ¿cómo estás?\",\n",
        "        \"Bonjour, comment ça va?\",\n",
        "        \"Hallo, wie geht es dir?\",\n",
        "        \"Ciao, come stai?\",\n",
        "        \"你好，你好吗？\",\n",
        "        \"こんにちは、お元気ですか？\",\n",
        "        \"안녕하세요, 어떻게 지내세요?\",\n",
        "        \"Привет, как дела?\",\n",
        "        \"مرحبا، كيف حالك؟\",\n",
        "        \"नमस्ते, आप कैसे हैं?\",\n",
        "        \"Γεια σου, πώς είσαι;\",\n",
        "        \"Merhaba, nasılsınız?\",\n",
        "        \"Hallo, hoe gaat het?\",\n",
        "        \"Hej, hur mår du?\",\n",
        "        \"Hei, hvordan har du det?\",\n",
        "        \"Cześć, jak się masz?\",\n",
        "        \"שלום, מה שלומך?\",\n",
        "        \"สวัสดี, คุณเป็นอย่างไรบ้าง?\",\n",
        "        ]"
      ],
      "metadata": {
        "id": "BReGt38plfCz"
      },
      "execution_count": 6,
      "outputs": []
    },
    {
      "cell_type": "markdown",
      "source": [
        "Passo 3: Recarragendo o\n",
        "ambiente python após a instalação da lib."
      ],
      "metadata": {
        "id": "Nt6oZ4yTly4I"
      }
    },
    {
      "cell_type": "code",
      "source": [
        "import pkg_resources,imp\n",
        "\n",
        "imp.reload(pkg_resources)"
      ],
      "metadata": {
        "colab": {
          "base_uri": "https://localhost:8080/"
        },
        "id": "XikenKcQl1G4",
        "outputId": "3955bdd3-d61d-45a2-d022-a4a46e91b0b9"
      },
      "execution_count": 7,
      "outputs": [
        {
          "output_type": "execute_result",
          "data": {
            "text/plain": [
              "<module 'pkg_resources' from '/usr/local/lib/python3.11/dist-packages/pkg_resources/__init__.py'>"
            ]
          },
          "metadata": {},
          "execution_count": 7
        }
      ]
    },
    {
      "cell_type": "markdown",
      "source": [
        "Passo 4: Detectando a\n",
        "linguagem predominante na lista de frases."
      ],
      "metadata": {
        "id": "Ic1l83Y4l31f"
      }
    },
    {
      "cell_type": "code",
      "source": [
        "from langdetect import detect\n",
        "\n",
        "for x in text:\n",
        "\n",
        "    print ('Frase: ', x)\n",
        "\n",
        "    print ('Idioma: ', detect(x), '\\n\\n')"
      ],
      "metadata": {
        "colab": {
          "base_uri": "https://localhost:8080/"
        },
        "id": "xYK5h5CUl5_H",
        "outputId": "6f754470-b6b6-4432-b05a-0238fe417202"
      },
      "execution_count": 8,
      "outputs": [
        {
          "output_type": "stream",
          "name": "stdout",
          "text": [
            "Frase:  Wear masks, keep distance, wash hands, be safe in these difficult days.\n",
            "Idioma:  en \n",
            "\n",
            "\n",
            "Frase:  Viseljen maszkot, tartson távolságot, mosson kezet, legyen biztonságban ezekben a nehéz napokban\n",
            "Idioma:  hu \n",
            "\n",
            "\n",
            "Frase:  Deaths are increasing, be vigilent.\n",
            "Idioma:  en \n",
            "\n",
            "\n",
            "Frase:  Носите маски, соблюдайте дистанцию, мойте руки, будьте осторожны в эти тяжелые дни.\n",
            "Idioma:  ru \n",
            "\n",
            "\n",
            "Frase:  Covid-19: Indians flock to vaccination centers as vaccines are now available for 60+ in India since the 1st of March\n",
            "Idioma:  en \n",
            "\n",
            "\n",
            "Frase:  Indossa maschere, mantieni le distanze, lavati le mani, sii al sicuro in questi giorni difficili.\n",
            "Idioma:  it \n",
            "\n",
            "\n",
            "Frase:  Portez des masques, gardez vos distances, lavez-vous les mains, soyez en sécurité en ces jours difficiles.\n",
            "Idioma:  fr \n",
            "\n",
            "\n",
            "Frase:  Brug masker, hold afstand, vask hænder, vær sikker i disse vanskelige dage.\n",
            "Idioma:  da \n",
            "\n",
            "\n",
            "Frase:  We are facing a global education crisis. No effort should be spared to safely bring every child back into the classroom.\n",
            "Idioma:  en \n",
            "\n",
            "\n",
            "Frase:  Bruk masker, hold avstand, vask hendene, vær trygg i disse vanskelige dagene.\n",
            "Idioma:  da \n",
            "\n",
            "\n",
            "Frase:  Portu maskojn, tenu distancon, lavu manojn, estu sekuraj en ĉi tiuj malfacilaj tagoj.\n",
            "Idioma:  hr \n",
            "\n",
            "\n",
            "Frase:  Tragen Sie Masken, halten Sie Abstand, waschen Sie Ihre Hände, seien Sie in diesen schwierigen Tagen sicher.\n",
            "Idioma:  de \n",
            "\n",
            "\n",
            "Frase:  Носіть маски, тримайтеся на відстані, мийте руки, будьте в безпеці в ці важкі дні.\n",
            "Idioma:  uk \n",
            "\n",
            "\n",
            "Frase:  Lock down , working from home are the keys words for these days.\n",
            "Idioma:  en \n",
            "\n",
            "\n",
            "Frase:  Lives have changed drastically across the planet and this period will forever be remembered as the beginning of something we have yet to witness.\n",
            "Idioma:  en \n",
            "\n",
            "\n",
            "Frase:  Este é um exemplo de texto escrito em português.\n",
            "Idioma:  pt \n",
            "\n",
            "\n",
            "Frase:  Olá, como você está?\n",
            "Idioma:  pt \n",
            "\n",
            "\n",
            "Frase:  Hello, how are you?\n",
            "Idioma:  en \n",
            "\n",
            "\n",
            "Frase:  Hola, ¿cómo estás?\n",
            "Idioma:  es \n",
            "\n",
            "\n",
            "Frase:  Bonjour, comment ça va?\n",
            "Idioma:  fr \n",
            "\n",
            "\n",
            "Frase:  Hallo, wie geht es dir?\n",
            "Idioma:  de \n",
            "\n",
            "\n",
            "Frase:  Ciao, come stai?\n",
            "Idioma:  it \n",
            "\n",
            "\n",
            "Frase:  你好，你好吗？\n",
            "Idioma:  zh-cn \n",
            "\n",
            "\n",
            "Frase:  こんにちは、お元気ですか？\n",
            "Idioma:  ja \n",
            "\n",
            "\n",
            "Frase:  안녕하세요, 어떻게 지내세요?\n",
            "Idioma:  ko \n",
            "\n",
            "\n",
            "Frase:  Привет, как дела?\n",
            "Idioma:  mk \n",
            "\n",
            "\n",
            "Frase:  مرحبا، كيف حالك؟\n",
            "Idioma:  ar \n",
            "\n",
            "\n",
            "Frase:  नमस्ते, आप कैसे हैं?\n",
            "Idioma:  hi \n",
            "\n",
            "\n",
            "Frase:  Γεια σου, πώς είσαι;\n",
            "Idioma:  el \n",
            "\n",
            "\n",
            "Frase:  Merhaba, nasılsınız?\n",
            "Idioma:  tr \n",
            "\n",
            "\n",
            "Frase:  Hallo, hoe gaat het?\n",
            "Idioma:  nl \n",
            "\n",
            "\n",
            "Frase:  Hej, hur mår du?\n",
            "Idioma:  da \n",
            "\n",
            "\n",
            "Frase:  Hei, hvordan har du det?\n",
            "Idioma:  da \n",
            "\n",
            "\n",
            "Frase:  Cześć, jak się masz?\n",
            "Idioma:  pl \n",
            "\n",
            "\n",
            "Frase:  שלום, מה שלומך?\n",
            "Idioma:  he \n",
            "\n",
            "\n",
            "Frase:  สวัสดี, คุณเป็นอย่างไรบ้าง?\n",
            "Idioma:  th \n",
            "\n",
            "\n"
          ]
        }
      ]
    }
  ]
}